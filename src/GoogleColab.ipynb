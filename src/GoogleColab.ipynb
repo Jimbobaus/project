{
  "nbformat": 4,
  "nbformat_minor": 0,
  "metadata": {
    "colab": {
      "name": "GoogleColab.ipynb",
      "provenance": [],
      "collapsed_sections": []
    },
    "kernelspec": {
      "display_name": "Python 3",
      "language": "python",
      "name": "python3"
    },
    "language_info": {
      "codemirror_mode": {
        "name": "ipython",
        "version": 3
      },
      "file_extension": ".py",
      "mimetype": "text/x-python",
      "name": "python",
      "nbconvert_exporter": "python",
      "pygments_lexer": "ipython3",
      "version": "3.6.12"
    }
  },
  "cells": [
    {
      "cell_type": "markdown",
      "metadata": {
        "id": "KvzS9oPYBJQZ"
      },
      "source": [
        "<a href=\"https://colab.research.google.com/github/UNSW-ZZSC9020/project/blob/main/src/GoogleColab.ipynb\" target=\"_parent\">\n",
        "  <img src=\"https://colab.research.google.com/assets/colab-badge.svg\" alt=\"Open In Colab\"/>\n",
        "</a>"
      ]
    },
    {
      "cell_type": "markdown",
      "metadata": {
        "id": "UVjVZ0zs8QZC"
      },
      "source": [
        "# Welcome to ZZSC9020\n",
        "\n",
        "This Python notebook shows how to clone the course GitHub repository on Google Colab.\n",
        "\n",
        "You can develop your data analysis on Google Colab without downloading the data to your computer."
      ]
    },
    {
      "cell_type": "code",
      "metadata": {
        "colab": {
          "base_uri": "https://localhost:8080/"
        },
        "id": "brynNOEi6FzS",
        "outputId": "a8be647a-0df2-4bca-bfef-b801e509cb93"
      },
      "source": [
        "# Clone the ZZSC9020 project repository from GitHub\n",
        "!git clone https://github.com/Jimbobaus/project.git"
      ],
      "execution_count": 1,
      "outputs": [
        {
          "output_type": "stream",
          "text": [
            "Cloning into 'project'...\n",
            "remote: warning: multi-pack bitmap is missing required reverse index\u001b[K\n",
            "remote: Enumerating objects: 62, done.\u001b[K\n",
            "remote: Counting objects: 100% (62/62), done.\u001b[K\n",
            "remote: Compressing objects: 100% (45/45), done.\u001b[K\n",
            "remote: Total 62 (delta 12), reused 52 (delta 9), pack-reused 0\u001b[K\n",
            "Unpacking objects: 100% (62/62), done.\n",
            "Checking out files: 100% (16/16), done.\n"
          ],
          "name": "stdout"
        }
      ]
    },
    {
      "cell_type": "code",
      "metadata": {
        "id": "44VdVtiX7Ukn"
      },
      "source": [
        "# Create a data folder\n",
        "!mkdir -p data\n",
        "# Joint forecastdemand_nsw files into a single file. \n",
        "!cat project/data/forecastdemand_nsw.csv.zip.part* > data/forecastdemand_nsw.csv.zip"
      ],
      "execution_count": 2,
      "outputs": []
    },
    {
      "cell_type": "code",
      "metadata": {
        "colab": {
          "base_uri": "https://localhost:8080/"
        },
        "id": "GdnC6dlz8agZ",
        "outputId": "6c822286-e7ec-46d5-c23a-56cac32b3e56"
      },
      "source": [
        "# Unzip the data files into the data folder\n",
        "!unzip data/forecastdemand_nsw.csv.zip -d data\n",
        "!unzip project/data/temperature_nsw.csv.zip -d data\n",
        "!unzip project/data/totaldemand_nsw.csv.zip -d data\n",
        "\n",
        "# Remove forecastdemand_nsw.csv.zip\n",
        "!rm data/forecastdemand_nsw.csv.zip"
      ],
      "execution_count": 3,
      "outputs": [
        {
          "output_type": "stream",
          "text": [
            "Archive:  data/forecastdemand_nsw.csv.zip\n",
            "  inflating: data/forecastdemand_nsw.csv  \n",
            "Archive:  project/data/temperature_nsw.csv.zip\n",
            "  inflating: data/temperature_nsw.csv  \n",
            "Archive:  project/data/totaldemand_nsw.csv.zip\n",
            "  inflating: data/totaldemand_nsw.csv  \n"
          ],
          "name": "stdout"
        }
      ]
    }
  ]
}